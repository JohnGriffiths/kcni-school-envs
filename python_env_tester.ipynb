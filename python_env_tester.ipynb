{
 "cells": [
  {
   "cell_type": "code",
   "execution_count": 1,
   "metadata": {},
   "outputs": [],
   "source": [
    "import neuron"
   ]
  },
  {
   "cell_type": "code",
   "execution_count": 2,
   "metadata": {},
   "outputs": [
    {
     "name": "stdout",
     "output_type": "stream",
     "text": [
      "\r\n"
     ]
    }
   ],
   "source": [
    "! echo $PYTHONPATH"
   ]
  },
  {
   "cell_type": "code",
   "execution_count": 3,
   "metadata": {},
   "outputs": [
    {
     "name": "stderr",
     "output_type": "stream",
     "text": [
      "testBytesize (neuron.tests.test_vector.VectorTestCase)\n",
      "Test that Vector.__array_interface__ returns the proper bytesize (of a double) ... ok\n",
      "testEndian (neuron.tests.test_vector.VectorTestCase)\n",
      "Test that Vector.__array_interface__ returns the proper byteorder (endian) ... ok\n",
      "testNumpyInteraction (neuron.tests.test_vector.VectorTestCase)\n",
      "Testing numpy.array <=> hoc.Vector interaction ... ok\n",
      "testPerformance (neuron.tests.test_vector.VectorTestCase)\n",
      "Test performance of Vector<->list,array ... "
     ]
    },
    {
     "name": "stdout",
     "output_type": "stream",
     "text": [
      "\n",
      "\n",
      "Executed \"l = range(1000000)\".  Elapsed = 0.000053 s\n",
      "Executed \"v = h.Vector(l)\".  Elapsed = 0.086534 s\n",
      "inplace:\n",
      "Executed \"v.from_python(l)\".  Elapsed = 0.080631 s\n",
      "Executed \"a = numpy.array(v)\".  Elapsed = 0.001571 s\n",
      "inplace:\n",
      "Executed \"v.to_python(a)\".  Elapsed = 0.002040 s\n",
      "Executed \"v2 = h.Vector(a)\".  Elapsed = 0.003524 s\n",
      "inplace:\n",
      "Executed \"v2.from_python(a)\".  Elapsed = 0.001916 s\n"
     ]
    },
    {
     "name": "stderr",
     "output_type": "stream",
     "text": [
      "ok\n",
      "testABI (neuron.tests.test_neuron.NeuronTestCase)\n",
      "Test use of some  Py_LIMITED_API for python3. ... ok\n",
      "testExtendedSection (neuron.tests.test_neuron.NeuronTestCase) ... "
     ]
    },
    {
     "name": "stdout",
     "output_type": "stream",
     "text": [
      "Executed \"l2 = list(v2)\".  Elapsed = 0.031563 s\n",
      "inplace:\n",
      "Executed \"v.to_python(l2)\".  Elapsed = 0.010884 s\n",
      "Executed \"v2 = h.Vector(a[::-1])\".  Elapsed = 0.004071 s\n",
      "Executed \"a2 = numpy.array(v2)\".  Elapsed = 0.001990 s\n"
     ]
    },
    {
     "name": "stderr",
     "output_type": "stream",
     "text": [
      "ok\n",
      "testHClass (neuron.tests.test_neuron.NeuronTestCase)\n",
      "Test subclass of hoc class. ... ok\n",
      "testHelp (neuron.tests.test_neuron.NeuronTestCase) ... ok\n",
      "testIterators (neuron.tests.test_neuron.NeuronTestCase)\n",
      "Test section, segment, mechanism, rangevar iterators. ... ok\n",
      "testRxDexistence (neuron.tests.test_neuron.NeuronTestCase) ... "
     ]
    },
    {
     "name": "stdout",
     "output_type": "stream",
     "text": [
      "\n",
      "NEURON+Python Online Help System\n",
      "================================\n",
      "\n",
      "Syntax:\n",
      "    .. code-block::\n",
      "        python\n",
      "\n",
      "\n",
      "        h.xpanel('name')\n",
      "        h.xpanel('name', [0-1])\n",
      "        h.xpanel()\n",
      "        h.xpanel(x, y)\n",
      "        h.xpanel(scroll)\n",
      "        h.xpanel(scroll, x, y)\n",
      "\n",
      "\n",
      "Description:\n",
      "\n",
      "\n",
      "    ``h.xpanel(\"name\")`` \n",
      "\n",
      "\n",
      "    ``h.xpanel(\"name\", [0-1])`` \n",
      "        Title of a new panel. Every \n",
      "        button, menu, and value between this and a closing ``xpanel()`` command \n",
      "        with no arguments (or placement args) belongs to this panel. \n",
      "        If the form is used with a second argument equal to 1, then \n",
      "        the panel is laid out horizontally. Otherwise the default is vertically. \n",
      "\n",
      "\n",
      "    ``h.xpanel()`` \n",
      "\n",
      "\n",
      "    ``h.xpanel(x, y)`` \n",
      "        done constructing the panel. so map it to the screen with position \n",
      "        optionally specified. \n",
      "\n",
      "\n",
      "    ``h.xpanel(scroll)`` \n",
      "\n",
      "\n",
      "    ``h.xpanel(scroll, x, y)`` \n",
      "        as above but if the first arg is a number, then the value determines \n",
      "        whether the panel will be inside a scrollbox. Scroll = 0 means a scrollbox \n",
      "        will NOT be used. Scroll = 1 means the panel will be inside a scrollbox. \n",
      "        Scroll = -1 is the default value and whether or not a scrollbox is used \n",
      "        is determined by the number of panel items in comparison with the \n",
      "        value of the panel_scroll property in the nrn.defaults file. \n",
      "\n"
     ]
    },
    {
     "name": "stderr",
     "output_type": "stream",
     "text": [
      "ok\n",
      "testpsection (neuron.tests.test_neuron.NeuronTestCase) ... ok\n",
      "\n",
      "----------------------------------------------------------------------\n",
      "Ran 11 tests in 1.801s\n",
      "\n",
      "OK\n"
     ]
    },
    {
     "data": {
      "text/plain": [
       "True"
      ]
     },
     "execution_count": 3,
     "metadata": {},
     "output_type": "execute_result"
    }
   ],
   "source": [
    "import neuron\n",
    "neuron.test()"
   ]
  },
  {
   "cell_type": "code",
   "execution_count": 4,
   "metadata": {},
   "outputs": [],
   "source": [
    "import LFPy"
   ]
  },
  {
   "cell_type": "code",
   "execution_count": 5,
   "metadata": {},
   "outputs": [],
   "source": [
    "import numpy"
   ]
  },
  {
   "cell_type": "code",
   "execution_count": 6,
   "metadata": {},
   "outputs": [],
   "source": [
    "import nilearn"
   ]
  },
  {
   "cell_type": "code",
   "execution_count": 7,
   "metadata": {},
   "outputs": [],
   "source": [
    "import mne"
   ]
  },
  {
   "cell_type": "code",
   "execution_count": 8,
   "metadata": {},
   "outputs": [
    {
     "name": "stdout",
     "output_type": "stream",
     "text": [
      "/opt/conda/bin/conda\r\n"
     ]
    }
   ],
   "source": [
    "! which conda"
   ]
  },
  {
   "cell_type": "code",
   "execution_count": 9,
   "metadata": {
    "scrolled": false
   },
   "outputs": [
    {
     "name": "stdout",
     "output_type": "stream",
     "text": [
      "# packages in environment at /opt/conda:\r\n",
      "#\r\n",
      "# Name                    Version                   Build  Channel\r\n",
      "_libgcc_mutex             0.1                        main  \r\n",
      "aiohttp                   3.6.2                    pypi_0    pypi\r\n",
      "allensdk                  1.7.1                    pypi_0    pypi\r\n",
      "argschema                 1.17.5                   pypi_0    pypi\r\n",
      "asn1crypto                1.3.0                    py37_0  \r\n",
      "async-timeout             3.0.1                    pypi_0    pypi\r\n",
      "attrs                     19.3.0                     py_0  \r\n",
      "backcall                  0.1.0                    py37_0  \r\n",
      "beautifulsoup4            4.9.0                    pypi_0    pypi\r\n",
      "blas                      1.0                         mkl  \r\n",
      "bleach                    3.1.4                      py_0  \r\n",
      "ca-certificates           2020.1.1                      0  \r\n",
      "certifi                   2020.4.5.1               py37_0  \r\n",
      "cffi                      1.14.0           py37h2e261b9_0  \r\n",
      "cfflib                    2.0.5                    pypi_0    pypi\r\n",
      "chardet                   3.0.4                 py37_1003  \r\n",
      "cheroot                   8.3.0                    pypi_0    pypi\r\n",
      "cherrypy                  18.6.0                   pypi_0    pypi\r\n",
      "conda                     4.8.3                    py37_0  \r\n",
      "conda-package-handling    1.6.0            py37h7b6447c_0  \r\n",
      "cryptography              2.8              py37h1ba5d50_0  \r\n",
      "cycler                    0.10.0                   py37_0  \r\n",
      "cython                    0.29.17          py37he6710b0_0  \r\n",
      "dbus                      1.13.14              hb2f20db_0  \r\n",
      "decorator                 4.4.2                      py_0  \r\n",
      "defusedxml                0.6.0                      py_0  \r\n",
      "distro                    1.5.0                    pypi_0    pypi\r\n",
      "entrypoints               0.3                      py37_0  \r\n",
      "expat                     2.2.6                he6710b0_0  \r\n",
      "fontconfig                2.13.0               h9420a91_0  \r\n",
      "formencode                1.3.1                    pypi_0    pypi\r\n",
      "freetype                  2.9.1                h8a8886c_1  \r\n",
      "future                    0.18.2                   pypi_0    pypi\r\n",
      "genshi                    0.7.3                    pypi_0    pypi\r\n",
      "glib                      2.63.1               h5a9c865_0  \r\n",
      "glymur                    0.8.19                   pypi_0    pypi\r\n",
      "gmp                       6.1.2                h6c8ec71_1  \r\n",
      "gst-plugins-base          1.14.0               hbbd80ab_1  \r\n",
      "gstreamer                 1.14.0               hb453b48_1  \r\n",
      "h5py                      2.10.0                   pypi_0    pypi\r\n",
      "hdmf                      1.0.2                    pypi_0    pypi\r\n",
      "icu                       58.2                 he6710b0_3  \r\n",
      "idna                      2.8                      py37_0  \r\n",
      "imageio                   2.8.0                    pypi_0    pypi\r\n",
      "importlib_metadata        1.5.0                    py37_0  \r\n",
      "intel-openmp              2020.1                      217  \r\n",
      "ipykernel                 5.1.4            py37h39e3cac_0  \r\n",
      "ipython                   7.13.0           py37h5ca1d4c_0  \r\n",
      "ipython_genutils          0.2.0                    py37_0  \r\n",
      "ipywidgets                7.5.1                      py_0  \r\n",
      "jaraco-classes            3.1.0                    pypi_0    pypi\r\n",
      "jaraco-collections        3.0.0                    pypi_0    pypi\r\n",
      "jaraco-functools          3.0.1                    pypi_0    pypi\r\n",
      "jaraco-text               3.2.0                    pypi_0    pypi\r\n",
      "jedi                      0.17.0                   py37_0  \r\n",
      "jinja2                    2.11.2                     py_0  \r\n",
      "joblib                    0.14.1                   pypi_0    pypi\r\n",
      "jpeg                      9b                   h024ee3a_2  \r\n",
      "jsonschema                3.2.0                    py37_0  \r\n",
      "jupyter                   1.0.0                    py37_7  \r\n",
      "jupyter_client            6.1.3                      py_0  \r\n",
      "jupyter_console           6.1.0                      py_0  \r\n",
      "jupyter_core              4.6.3                    py37_0  \r\n",
      "kiwisolver                1.2.0            py37hfd86e86_0  \r\n",
      "ld_impl_linux-64          2.33.1               h53a641e_7  \r\n",
      "lfpy                      2.0.7                    pypi_0    pypi\r\n",
      "libedit                   3.1.20181209         hc058e9b_0  \r\n",
      "libffi                    3.2.1                hd88cf55_4  \r\n",
      "libgcc-ng                 9.1.0                hdf63c60_0  \r\n",
      "libgfortran-ng            7.3.0                hdf63c60_0  \r\n",
      "libpng                    1.6.37               hbc83047_0  \r\n",
      "libsodium                 1.0.16               h1bed415_0  \r\n",
      "libstdcxx-ng              9.1.0                hdf63c60_0  \r\n",
      "libuuid                   1.0.3                h1bed415_2  \r\n",
      "libxcb                    1.13                 h1bed415_1  \r\n",
      "libxml2                   2.9.9                hea5a465_1  \r\n",
      "llvmlite                  0.32.1                   pypi_0    pypi\r\n",
      "markupsafe                1.1.1            py37h7b6447c_0  \r\n",
      "marshmallow               3.0.0rc6                 pypi_0    pypi\r\n",
      "matplotlib                3.1.3                    py37_0  \r\n",
      "matplotlib-base           3.1.3            py37hef1b27d_0  \r\n",
      "mistune                   0.8.4            py37h7b6447c_0  \r\n",
      "mkl                       2020.1                      217  \r\n",
      "mkl-service               2.3.0            py37he904b0f_0  \r\n",
      "mkl_fft                   1.0.15           py37ha843d7b_0  \r\n",
      "mkl_random                1.1.0            py37hd6b4f25_0  \r\n",
      "mne                       0.20.4                   pypi_0    pypi\r\n",
      "mock                      4.0.2                    pypi_0    pypi\r\n",
      "more-itertools            8.2.0                      py_0  \r\n",
      "mpi                       1.0                       mpich  \r\n",
      "mpi4py                    3.0.3            py37h028fd6f_0  \r\n",
      "mpich                     3.3.2                hc856adb_0  \r\n",
      "multidict                 4.7.5                    pypi_0    pypi\r\n",
      "nbconvert                 5.6.1                    py37_0  \r\n",
      "nbformat                  5.0.6                      py_0  \r\n",
      "ncurses                   6.2                  he6710b0_0  \r\n",
      "nest-asyncio              1.2.0                    pypi_0    pypi\r\n",
      "networkx                  2.4                      pypi_0    pypi\r\n",
      "neuron                    7.8.0.127                pypi_0    pypi\r\n",
      "nibabel                   3.1.0                    pypi_0    pypi\r\n",
      "nilearn                   0.6.2                    pypi_0    pypi\r\n",
      "notebook                  6.0.3                    py37_0  \r\n",
      "numba                     0.49.1                   pypi_0    pypi\r\n",
      "numexpr                   2.7.1                    pypi_0    pypi\r\n",
      "numpy                     1.18.1           py37h4f9e942_0  \r\n",
      "numpy-base                1.18.1           py37hde5b4d6_1  \r\n",
      "openssl                   1.1.1g               h7b6447c_0  \r\n",
      "packaging                 20.3                       py_0  \r\n",
      "pandas                    0.25.3                   pypi_0    pypi\r\n",
      "pandoc                    2.2.3.2                       0  \r\n",
      "pandocfilters             1.4.2                    py37_1  \r\n",
      "parso                     0.7.0                      py_0  \r\n",
      "patsy                     0.5.1                    pypi_0    pypi\r\n",
      "pbr                       5.4.5                    pypi_0    pypi\r\n",
      "pcre                      8.43                 he6710b0_0  \r\n",
      "pexpect                   4.8.0                    py37_0  \r\n",
      "pickleshare               0.7.5                    py37_0  \r\n",
      "pillow                    7.1.2                    pypi_0    pypi\r\n",
      "pip                       20.0.2                   py37_1  \r\n",
      "pluggy                    0.13.1                   py37_0  \r\n",
      "portend                   2.6                      pypi_0    pypi\r\n",
      "prometheus_client         0.7.1                      py_0  \r\n",
      "prompt-toolkit            3.0.4                      py_0  \r\n",
      "prompt_toolkit            3.0.4                         0  \r\n",
      "psutil                    5.7.0                    pypi_0    pypi\r\n",
      "psycopg2-binary           2.8.5                    pypi_0    pypi\r\n",
      "ptyprocess                0.6.0                    py37_0  \r\n",
      "py                        1.8.1                      py_0  \r\n",
      "pycosat                   0.6.3            py37h7b6447c_0  \r\n",
      "pycparser                 2.19                     py37_0  \r\n",
      "pygments                  2.6.1                      py_0  \r\n",
      "pynrrd                    0.4.2                    pypi_0    pypi\r\n",
      "pynwb                     1.0.2                    pypi_0    pypi\r\n",
      "pyopenssl                 19.1.0                   py37_0  \r\n",
      "pyparsing                 2.4.7                      py_0  \r\n",
      "pyqt                      5.9.2            py37h05f1152_2  \r\n",
      "pyrsistent                0.16.0           py37h7b6447c_0  \r\n",
      "pysocks                   1.7.1                    py37_0  \r\n",
      "pytest                    5.4.1                    py37_0  \r\n",
      "python                    3.7.6                h0371630_2  \r\n",
      "python-dateutil           2.8.1                      py_0  \r\n",
      "pytz                      2020.1                     py_0  \r\n",
      "pywavelets                1.1.1                    pypi_0    pypi\r\n",
      "pyzmq                     18.1.1           py37he6710b0_0  \r\n",
      "qt                        5.9.7                h5867ecd_1  \r\n",
      "qtconsole                 4.7.3                      py_0  \r\n",
      "qtpy                      1.9.0                      py_0  \r\n",
      "readline                  7.0                  h7b6447c_5  \r\n",
      "requests                  2.22.0                   py37_1  \r\n",
      "requests-toolbelt         0.9.1                    pypi_0    pypi\r\n",
      "ruamel-yaml               0.16.10                  pypi_0    pypi\r\n",
      "ruamel-yaml-clib          0.2.0                    pypi_0    pypi\r\n",
      "ruamel_yaml               0.15.87          py37h7b6447c_0  \r\n",
      "scikit-build              0.11.1                   pypi_0    pypi\r\n",
      "scikit-image              0.16.2                   pypi_0    pypi\r\n",
      "scikit-learn              0.23.0                   pypi_0    pypi\r\n",
      "scipy                     1.4.1            py37h0b6359f_0  \r\n",
      "seaborn                   0.10.1                     py_0  \r\n",
      "send2trash                1.5.0                    py37_0  \r\n",
      "setuptools                45.2.0                   py37_0  \r\n",
      "simpleitk                 1.2.4                    pypi_0    pypi\r\n",
      "simplejson                3.17.0                   pypi_0    pypi\r\n",
      "sip                       4.19.8           py37hf484d3e_0  \r\n",
      "six                       1.14.0                   py37_0  \r\n",
      "sklearn                   0.0                      pypi_0    pypi\r\n",
      "soupsieve                 2.0                      pypi_0    pypi\r\n",
      "sqlalchemy                1.3.16                   pypi_0    pypi\r\n",
      "sqlalchemy-migrate        0.13.0                   pypi_0    pypi\r\n",
      "sqlite                    3.31.1               h7b6447c_0  \r\n",
      "sqlparse                  0.3.1                    pypi_0    pypi\r\n",
      "statsmodels               0.9.0                    pypi_0    pypi\r\n",
      "tables                    3.5.1                    pypi_0    pypi\r\n",
      "tempita                   0.5.2                    pypi_0    pypi\r\n",
      "tempora                   3.0.0                    pypi_0    pypi\r\n",
      "terminado                 0.8.3                    py37_0  \r\n",
      "testpath                  0.4.4                      py_0  \r\n",
      "threadpoolctl             2.0.0                    pypi_0    pypi\r\n",
      "tk                        8.6.8                hbc83047_0  \r\n",
      "tornado                   6.0.4            py37h7b6447c_1  \r\n",
      "tqdm                      4.42.1                     py_0  \r\n",
      "traitlets                 4.3.3                    py37_0  \r\n",
      "tvb-data                  2.0                      pypi_0    pypi\r\n",
      "tvb-framework             1.5.8                    pypi_0    pypi\r\n",
      "tvb-library               2.0.5                    pypi_0    pypi\r\n",
      "typing                    3.7.4.1                  pypi_0    pypi\r\n",
      "urllib3                   1.25.8                   py37_0  \r\n",
      "wcwidth                   0.1.9                      py_0  \r\n",
      "webencodings              0.5.1                    py37_1  \r\n",
      "wheel                     0.34.2                   py37_0  \r\n",
      "widgetsnbextension        3.5.1                    py37_0  \r\n",
      "xarray                    0.15.1                   pypi_0    pypi\r\n",
      "xz                        5.2.4                h14c3975_4  \r\n",
      "yaml                      0.1.7                had09818_2  \r\n",
      "yarl                      1.4.2                    pypi_0    pypi\r\n",
      "zc-lockfile               2.0                      pypi_0    pypi\r\n",
      "zeromq                    4.3.1                he6710b0_3  \r\n",
      "zipp                      3.1.0                      py_0  \r\n",
      "zlib                      1.2.11               h7b6447c_3  \r\n"
     ]
    }
   ],
   "source": [
    "! conda list"
   ]
  },
  {
   "cell_type": "code",
   "execution_count": 10,
   "metadata": {},
   "outputs": [],
   "source": [
    "import seaborn"
   ]
  },
  {
   "cell_type": "code",
   "execution_count": 11,
   "metadata": {},
   "outputs": [],
   "source": [
    "import tvb"
   ]
  },
  {
   "cell_type": "code",
   "execution_count": 12,
   "metadata": {},
   "outputs": [],
   "source": [
    "import pandas"
   ]
  },
  {
   "cell_type": "code",
   "execution_count": null,
   "metadata": {},
   "outputs": [],
   "source": []
  }
 ],
 "metadata": {
  "kernelspec": {
   "display_name": "Python 3",
   "language": "python",
   "name": "python3"
  },
  "language_info": {
   "codemirror_mode": {
    "name": "ipython",
    "version": 3
   },
   "file_extension": ".py",
   "mimetype": "text/x-python",
   "name": "python",
   "nbconvert_exporter": "python",
   "pygments_lexer": "ipython3",
   "version": "3.7.6"
  }
 },
 "nbformat": 4,
 "nbformat_minor": 4
}
